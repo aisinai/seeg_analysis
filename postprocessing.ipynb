{
 "cells": [
  {
   "cell_type": "code",
   "execution_count": 27,
   "metadata": {},
   "outputs": [],
   "source": [
    "# This notebook describes a post-processing pipeline that\n",
    "# converts the indices indicating anomalous regions (from Telemanom)\n",
    "# to a relative time window that can be used to assess if the predictions\n",
    "# are correct (e.g. did a seizure occur 10 minutes from the start of the recording?)\n",
    "# TO BE USED AFTER LSTM TRAINING/TESTING"
   ]
  },
  {
   "cell_type": "code",
   "execution_count": null,
   "metadata": {},
   "outputs": [],
   "source": [
    "import pandas as pd\n",
    "import numpy as np\n",
    "import mne\n",
    "\n",
    "session_edf_path = '/mnt/edfs/<insert original edf file name>.edf'\n",
    "tested_npy_path = '/mnt/final_clips/data/test/<insert a corresponding npy array>.npy'\n",
    "resultpath = '/mnt/final_clips/results/<insert output csv file>.csv'\n",
    "raw = mne.io.read_raw_edf(input_fname=session_edf_path)\n",
    "\n",
    "#insert what the train:test split was for the experiment\n",
    "traintestsplit = 0.5\n",
    "\n",
    "results = pd.read_csv(resultpath)\n",
    "results"
   ]
  },
  {
   "cell_type": "code",
   "execution_count": 180,
   "metadata": {},
   "outputs": [],
   "source": [
    "# Enter an anomalous index number from the LSTM as \"anom_element\"\n",
    "\n",
    "anom_element = 48000\n",
    "\n",
    "tested_sample = np.load(tested_npy_path)\n",
    "total_elements = tested_sample.shape[0]\n",
    "total_time_for_test = raw.times.max()*(1-traintestsplit)\n"
   ]
  },
  {
   "cell_type": "code",
   "execution_count": 181,
   "metadata": {},
   "outputs": [
    {
     "name": "stdout",
     "output_type": "stream",
     "text": [
      "The time of the anomaly is  1.5624973538255034  minutes after the test file start time.\n"
     ]
    }
   ],
   "source": [
    "# Prints the time since the test file start time that the anomaly occurred\n",
    "\n",
    "time_of_anom = ((anom_element/total_elements)*total_time_for_test)/60\n",
    "print(\"The time of the anomaly is \",time_of_anom,\" minutes after the test file start time.\")"
   ]
  }
 ],
 "metadata": {
  "kernelspec": {
   "display_name": "Python 3",
   "language": "python",
   "name": "python3"
  },
  "language_info": {
   "codemirror_mode": {
    "name": "ipython",
    "version": 3
   },
   "file_extension": ".py",
   "mimetype": "text/x-python",
   "name": "python",
   "nbconvert_exporter": "python",
   "pygments_lexer": "ipython3",
   "version": "3.6.5"
  }
 },
 "nbformat": 4,
 "nbformat_minor": 4
}
